{
 "cells": [
  {
   "cell_type": "markdown",
   "id": "voluntary-squad",
   "metadata": {},
   "source": [
    "## XGBoost Regressor"
   ]
  },
  {
   "cell_type": "code",
   "execution_count": 1,
   "id": "continent-financing",
   "metadata": {},
   "outputs": [],
   "source": [
    "import xgboost as xgb"
   ]
  },
  {
   "cell_type": "code",
   "execution_count": null,
   "id": "sudden-format",
   "metadata": {},
   "outputs": [],
   "source": [
    "# Instantiation\n",
    "xgb_r = xgb.XGBRegressor(objective ='reg:linear', n_estimators = 30, seed = 123, silent=False,\n",
    "                         eval_metric = 'mae', max_depth=5)\n",
    "  \n",
    "# Fitting the model\n",
    "xgb_r.fit(train_X, train_y, eval_set=eval_set)"
   ]
  },
  {
   "cell_type": "code",
   "execution_count": null,
   "id": "hybrid-cleaner",
   "metadata": {},
   "outputs": [],
   "source": [
    "pred_xgb = xgb_r.predict(eval_X)\n",
    "mae_xgb = mean_absolute_error(eval_y, pred)\n",
    "print(mae_xgb)"
   ]
  },
  {
   "cell_type": "code",
   "execution_count": null,
   "id": "palestinian-requirement",
   "metadata": {},
   "outputs": [],
   "source": [
    "fig, ax = plt.subplots(figsize=(15,20))\n",
    "xgb.plot_importance(xgb_r, ax=ax)\n",
    "plt.show()"
   ]
  }
 ],
 "metadata": {
  "kernelspec": {
   "display_name": "Python 3",
   "language": "python",
   "name": "python3"
  },
  "language_info": {
   "codemirror_mode": {
    "name": "ipython",
    "version": 3
   },
   "file_extension": ".py",
   "mimetype": "text/x-python",
   "name": "python",
   "nbconvert_exporter": "python",
   "pygments_lexer": "ipython3",
   "version": "3.6.9"
  }
 },
 "nbformat": 4,
 "nbformat_minor": 5
}
