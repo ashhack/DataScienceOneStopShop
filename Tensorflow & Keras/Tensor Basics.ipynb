{
 "cells": [
  {
   "cell_type": "code",
   "execution_count": 2,
   "id": "physical-factor",
   "metadata": {},
   "outputs": [],
   "source": [
    "import os\n",
    "os.environ[\"TF_CPP_MIN_LOG_LEVEL\"] = '2'\n",
    "\n",
    "import tensorflow as tf"
   ]
  },
  {
   "cell_type": "markdown",
   "id": "english-repeat",
   "metadata": {},
   "source": [
    "#### Initialization of Tensors"
   ]
  },
  {
   "cell_type": "code",
   "execution_count": 9,
   "id": "healthy-monster",
   "metadata": {},
   "outputs": [],
   "source": [
    "x = tf.constant(4, shape=(1,1), dtype=tf.float32)"
   ]
  },
  {
   "cell_type": "code",
   "execution_count": 14,
   "id": "engaged-craps",
   "metadata": {},
   "outputs": [],
   "source": [
    "y = tf.constant([[2, 3], [4, 5]])"
   ]
  },
  {
   "cell_type": "code",
   "execution_count": 17,
   "id": "authorized-bouquet",
   "metadata": {},
   "outputs": [
    {
     "data": {
      "text/plain": [
       "<tf.Tensor: shape=(2, 2), dtype=int32, numpy=\n",
       "array([[2, 3],\n",
       "       [4, 5]], dtype=int32)>"
      ]
     },
     "execution_count": 17,
     "metadata": {},
     "output_type": "execute_result"
    }
   ],
   "source": [
    "y"
   ]
  },
  {
   "cell_type": "code",
   "execution_count": 18,
   "id": "allied-converter",
   "metadata": {},
   "outputs": [],
   "source": [
    "x = tf.ones((3,3))"
   ]
  },
  {
   "cell_type": "code",
   "execution_count": 19,
   "id": "anonymous-professor",
   "metadata": {},
   "outputs": [
    {
     "data": {
      "text/plain": [
       "<tf.Tensor: shape=(3, 3), dtype=float32, numpy=\n",
       "array([[1., 1., 1.],\n",
       "       [1., 1., 1.],\n",
       "       [1., 1., 1.]], dtype=float32)>"
      ]
     },
     "execution_count": 19,
     "metadata": {},
     "output_type": "execute_result"
    }
   ],
   "source": [
    "x"
   ]
  },
  {
   "cell_type": "code",
   "execution_count": 20,
   "id": "happy-virginia",
   "metadata": {},
   "outputs": [],
   "source": [
    "## Deafult asignment in tensorflow is float32"
   ]
  },
  {
   "cell_type": "code",
   "execution_count": 27,
   "id": "affecting-static",
   "metadata": {},
   "outputs": [],
   "source": [
    "## Diagonal tensor\n",
    "x = tf.eye(3)"
   ]
  },
  {
   "cell_type": "code",
   "execution_count": 37,
   "id": "derived-treasure",
   "metadata": {},
   "outputs": [],
   "source": [
    "## Tensors from a distribution \n",
    "\n",
    "# Normal\n",
    "x = tf.random.normal((3, 3), mean=0, stddev=1, name=\"Normal Distribution\")\n",
    "\n",
    "# Normal\n",
    "y = tf.random.uniform((3, 3), minval=0, maxval=4, name=\"Uniform Distribution\")"
   ]
  },
  {
   "cell_type": "code",
   "execution_count": 39,
   "id": "billion-blind",
   "metadata": {},
   "outputs": [
    {
     "data": {
      "text/plain": [
       "<tf.Tensor: shape=(3, 3), dtype=float32, numpy=\n",
       "array([[ 1.4909781 , -0.9890785 , -0.27485576],\n",
       "       [-0.69200885, -0.54307777,  0.09770322],\n",
       "       [ 1.2303815 ,  0.46739686,  0.44041523]], dtype=float32)>"
      ]
     },
     "execution_count": 39,
     "metadata": {},
     "output_type": "execute_result"
    }
   ],
   "source": [
    "x"
   ]
  },
  {
   "cell_type": "code",
   "execution_count": 38,
   "id": "ranking-sellers",
   "metadata": {},
   "outputs": [
    {
     "data": {
      "text/plain": [
       "<tf.Tensor: shape=(3, 3), dtype=float32, numpy=\n",
       "array([[1.9528909 , 2.6407728 , 0.8325243 ],\n",
       "       [2.007896  , 0.3857212 , 0.1660204 ],\n",
       "       [1.9014025 , 0.0229373 , 0.56169176]], dtype=float32)>"
      ]
     },
     "execution_count": 38,
     "metadata": {},
     "output_type": "execute_result"
    }
   ],
   "source": [
    "y"
   ]
  },
  {
   "cell_type": "code",
   "execution_count": 40,
   "id": "certified-effectiveness",
   "metadata": {},
   "outputs": [],
   "source": [
    "## Tensor From Range\n",
    "x = tf.range(start=1, limit=10, delta =2)"
   ]
  },
  {
   "cell_type": "code",
   "execution_count": 41,
   "id": "supreme-stylus",
   "metadata": {},
   "outputs": [
    {
     "data": {
      "text/plain": [
       "<tf.Tensor: shape=(5,), dtype=int32, numpy=array([1, 3, 5, 7, 9], dtype=int32)>"
      ]
     },
     "execution_count": 41,
     "metadata": {},
     "output_type": "execute_result"
    }
   ],
   "source": [
    "x"
   ]
  },
  {
   "cell_type": "markdown",
   "id": "second-papua",
   "metadata": {},
   "source": [
    "#### Datatype Conversion"
   ]
  },
  {
   "cell_type": "code",
   "execution_count": 42,
   "id": "animated-harrison",
   "metadata": {},
   "outputs": [],
   "source": [
    "y = tf.cast(x, dtype=tf.float64)"
   ]
  },
  {
   "cell_type": "code",
   "execution_count": 45,
   "id": "monthly-marble",
   "metadata": {},
   "outputs": [],
   "source": [
    "y = tf.cast(x, dtype=tf.bool)"
   ]
  },
  {
   "cell_type": "code",
   "execution_count": 46,
   "id": "owned-appliance",
   "metadata": {},
   "outputs": [
    {
     "data": {
      "text/plain": [
       "<tf.Tensor: shape=(5,), dtype=bool, numpy=array([ True,  True,  True,  True,  True])>"
      ]
     },
     "execution_count": 46,
     "metadata": {},
     "output_type": "execute_result"
    }
   ],
   "source": [
    "y"
   ]
  },
  {
   "cell_type": "markdown",
   "id": "architectural-disaster",
   "metadata": {},
   "source": [
    "#### Mathematical Operations"
   ]
  },
  {
   "cell_type": "code",
   "execution_count": 107,
   "id": "portuguese-granny",
   "metadata": {},
   "outputs": [],
   "source": [
    "x = tf.constant([1, 2, 3])\n",
    "y = tf.constant([4, 5, 6])"
   ]
  },
  {
   "cell_type": "code",
   "execution_count": 49,
   "id": "renewable-candidate",
   "metadata": {},
   "outputs": [],
   "source": [
    "# Method-1 : Element wise addition\n",
    "z = x + y"
   ]
  },
  {
   "cell_type": "code",
   "execution_count": 55,
   "id": "alert-while",
   "metadata": {},
   "outputs": [
    {
     "data": {
      "text/plain": [
       "<tf.Tensor: shape=(3,), dtype=int32, numpy=array([5, 7, 9], dtype=int32)>"
      ]
     },
     "execution_count": 55,
     "metadata": {},
     "output_type": "execute_result"
    }
   ],
   "source": [
    "# Method-2\n",
    "z = tf.add(x, y)\n",
    "z"
   ]
  },
  {
   "cell_type": "code",
   "execution_count": 54,
   "id": "periodic-poultry",
   "metadata": {},
   "outputs": [
    {
     "data": {
      "text/plain": [
       "<tf.Tensor: shape=(3,), dtype=int32, numpy=array([-3, -3, -3], dtype=int32)>"
      ]
     },
     "execution_count": 54,
     "metadata": {},
     "output_type": "execute_result"
    }
   ],
   "source": [
    "# Element wise subtraction\n",
    "z = tf.subtract(x, y)\n",
    "z"
   ]
  },
  {
   "cell_type": "code",
   "execution_count": 58,
   "id": "welcome-bennett",
   "metadata": {},
   "outputs": [],
   "source": [
    "# Element wise divison\n",
    "z = tf.divide(x, y) \n",
    "z = x/y"
   ]
  },
  {
   "cell_type": "code",
   "execution_count": 105,
   "id": "dental-mauritius",
   "metadata": {},
   "outputs": [],
   "source": [
    "# Element wise multiplication\n",
    "z = tf.multiply(x, y)\n",
    "z = x*y"
   ]
  },
  {
   "cell_type": "code",
   "execution_count": 111,
   "id": "verified-development",
   "metadata": {},
   "outputs": [],
   "source": [
    "### Dot Product\n",
    "z1 = tf.tensordot(x,y, axes=1) # Method -1\n",
    "z2 = tf.reduce_sum(x*y, axis=0)"
   ]
  },
  {
   "cell_type": "code",
   "execution_count": 112,
   "id": "outside-faculty",
   "metadata": {},
   "outputs": [
    {
     "data": {
      "text/plain": [
       "<tf.Tensor: shape=(), dtype=int32, numpy=32>"
      ]
     },
     "execution_count": 112,
     "metadata": {},
     "output_type": "execute_result"
    }
   ],
   "source": [
    "z1"
   ]
  },
  {
   "cell_type": "code",
   "execution_count": 75,
   "id": "neutral-vacuum",
   "metadata": {},
   "outputs": [
    {
     "data": {
      "text/plain": [
       "<tf.Tensor: shape=(), dtype=int32, numpy=32>"
      ]
     },
     "execution_count": 75,
     "metadata": {},
     "output_type": "execute_result"
    }
   ],
   "source": [
    "z2"
   ]
  },
  {
   "cell_type": "code",
   "execution_count": 76,
   "id": "sound-heart",
   "metadata": {},
   "outputs": [],
   "source": [
    "## Element wise exponentiation\n",
    "z = x**2"
   ]
  },
  {
   "cell_type": "code",
   "execution_count": 77,
   "id": "annual-renewal",
   "metadata": {},
   "outputs": [
    {
     "data": {
      "text/plain": [
       "<tf.Tensor: shape=(3,), dtype=int32, numpy=array([1, 4, 9], dtype=int32)>"
      ]
     },
     "execution_count": 77,
     "metadata": {},
     "output_type": "execute_result"
    }
   ],
   "source": [
    "z"
   ]
  },
  {
   "cell_type": "code",
   "execution_count": 78,
   "id": "smooth-century",
   "metadata": {},
   "outputs": [],
   "source": [
    "## Matrix Multiplication\n",
    "\n",
    "x = tf.random.normal((2, 3))\n",
    "y = tf.random.normal((3, 4))\n",
    "\n",
    "z1 = tf.matmul(x, y)\n",
    "z2 = x @ y"
   ]
  },
  {
   "cell_type": "code",
   "execution_count": 79,
   "id": "prepared-knowing",
   "metadata": {},
   "outputs": [
    {
     "data": {
      "text/plain": [
       "<tf.Tensor: shape=(2, 4), dtype=float32, numpy=\n",
       "array([[-0.2793793 ,  3.2988145 ,  0.6510896 , -2.0373955 ],\n",
       "       [ 1.2635063 , -2.9701147 , -1.8938305 ,  0.07456025]],\n",
       "      dtype=float32)>"
      ]
     },
     "execution_count": 79,
     "metadata": {},
     "output_type": "execute_result"
    }
   ],
   "source": [
    "z1"
   ]
  },
  {
   "cell_type": "code",
   "execution_count": 80,
   "id": "excess-adolescent",
   "metadata": {},
   "outputs": [
    {
     "data": {
      "text/plain": [
       "<tf.Tensor: shape=(2, 4), dtype=float32, numpy=\n",
       "array([[-0.2793793 ,  3.2988145 ,  0.6510896 , -2.0373955 ],\n",
       "       [ 1.2635063 , -2.9701147 , -1.8938305 ,  0.07456025]],\n",
       "      dtype=float32)>"
      ]
     },
     "execution_count": 80,
     "metadata": {},
     "output_type": "execute_result"
    }
   ],
   "source": [
    "z2"
   ]
  },
  {
   "cell_type": "markdown",
   "id": "perceived-generator",
   "metadata": {},
   "source": [
    "#### Setting up Physical Devices"
   ]
  },
  {
   "cell_type": "code",
   "execution_count": 81,
   "id": "rolled-profile",
   "metadata": {},
   "outputs": [],
   "source": [
    "physical_devices = tf.config.list_physical_devices('GPU')"
   ]
  },
  {
   "cell_type": "code",
   "execution_count": 86,
   "id": "statistical-steps",
   "metadata": {},
   "outputs": [
    {
     "data": {
      "text/plain": [
       "[PhysicalDevice(name='/physical_device:CPU:0', device_type='CPU'),\n",
       " PhysicalDevice(name='/physical_device:XLA_CPU:0', device_type='XLA_CPU')]"
      ]
     },
     "execution_count": 86,
     "metadata": {},
     "output_type": "execute_result"
    }
   ],
   "source": [
    "tf.config.list_physical_devices()"
   ]
  },
  {
   "cell_type": "markdown",
   "id": "yellow-consent",
   "metadata": {},
   "source": [
    "#### Indexing"
   ]
  },
  {
   "cell_type": "code",
   "execution_count": 87,
   "id": "cleared-programmer",
   "metadata": {},
   "outputs": [],
   "source": [
    "x = tf.constant([1, 2, 3, 4, 5, 6])"
   ]
  },
  {
   "cell_type": "code",
   "execution_count": 89,
   "id": "toxic-indonesian",
   "metadata": {},
   "outputs": [
    {
     "name": "stdout",
     "output_type": "stream",
     "text": [
      "tf.Tensor([1 2 3 4 5 6], shape=(6,), dtype=int32)\n"
     ]
    }
   ],
   "source": [
    "print(x[:])"
   ]
  },
  {
   "cell_type": "code",
   "execution_count": 90,
   "id": "cathedral-shaft",
   "metadata": {},
   "outputs": [
    {
     "name": "stdout",
     "output_type": "stream",
     "text": [
      "tf.Tensor([2 3 4 5 6], shape=(5,), dtype=int32)\n"
     ]
    }
   ],
   "source": [
    "print(x[1:])"
   ]
  },
  {
   "cell_type": "code",
   "execution_count": 91,
   "id": "lucky-intellectual",
   "metadata": {},
   "outputs": [
    {
     "name": "stdout",
     "output_type": "stream",
     "text": [
      "tf.Tensor([6], shape=(1,), dtype=int32)\n"
     ]
    }
   ],
   "source": [
    "print(x[-1:])"
   ]
  },
  {
   "cell_type": "code",
   "execution_count": 92,
   "id": "genetic-referral",
   "metadata": {},
   "outputs": [
    {
     "name": "stdout",
     "output_type": "stream",
     "text": [
      "tf.Tensor([2 3 4 5], shape=(4,), dtype=int32)\n"
     ]
    }
   ],
   "source": [
    "print(x[1:-1])"
   ]
  },
  {
   "cell_type": "code",
   "execution_count": 93,
   "id": "standard-cookbook",
   "metadata": {},
   "outputs": [
    {
     "name": "stdout",
     "output_type": "stream",
     "text": [
      "tf.Tensor([1 3 5], shape=(3,), dtype=int32)\n"
     ]
    }
   ],
   "source": [
    "print(x[::2])"
   ]
  },
  {
   "cell_type": "code",
   "execution_count": 96,
   "id": "metropolitan-secretary",
   "metadata": {},
   "outputs": [
    {
     "name": "stdout",
     "output_type": "stream",
     "text": [
      "[4, 2]\n"
     ]
    }
   ],
   "source": [
    "print(x[::-2])"
   ]
  },
  {
   "cell_type": "code",
   "execution_count": 99,
   "id": "fitting-plymouth",
   "metadata": {},
   "outputs": [
    {
     "data": {
      "text/plain": [
       "<tf.Tensor: shape=(2,), dtype=int32, numpy=array([2, 3], dtype=int32)>"
      ]
     },
     "execution_count": 99,
     "metadata": {},
     "output_type": "execute_result"
    }
   ],
   "source": [
    "## Gathering specific indices from a tensor\n",
    "\n",
    "indices = tf.constant([1,2])\n",
    "tf.gather(x, indices=indices)"
   ]
  },
  {
   "cell_type": "code",
   "execution_count": 100,
   "id": "nervous-checkout",
   "metadata": {},
   "outputs": [],
   "source": [
    "a = tf.constant([[1,2], [3, 4]])\n",
    "b = tf.constant([[3,4], [5, 6]])"
   ]
  },
  {
   "cell_type": "code",
   "execution_count": 114,
   "id": "daily-dollar",
   "metadata": {},
   "outputs": [
    {
     "data": {
      "text/plain": [
       "<tf.Tensor: shape=(2, 2), dtype=int32, numpy=\n",
       "array([[13, 16],\n",
       "       [29, 36]], dtype=int32)>"
      ]
     },
     "execution_count": 114,
     "metadata": {},
     "output_type": "execute_result"
    }
   ],
   "source": [
    "## (ij) (kl) - [1, 0] --> il\n",
    "## axes = 1 mean , inner product or dot product\n",
    "## axes =0 mean, outer product\n",
    "\n",
    "tf.tensordot(a, b, axes=1)"
   ]
  },
  {
   "cell_type": "markdown",
   "id": "quick-prayer",
   "metadata": {},
   "source": [
    "#### Reshaping"
   ]
  },
  {
   "cell_type": "code",
   "execution_count": 121,
   "id": "distributed-therapist",
   "metadata": {},
   "outputs": [],
   "source": [
    "x = tf.range(9)"
   ]
  },
  {
   "cell_type": "code",
   "execution_count": 122,
   "id": "excessive-blake",
   "metadata": {},
   "outputs": [],
   "source": [
    "y = tf.reshape(x, (3,3))"
   ]
  },
  {
   "cell_type": "code",
   "execution_count": 127,
   "id": "clinical-sport",
   "metadata": {},
   "outputs": [],
   "source": [
    "z = tf.transpose(y, perm=[1, 0])"
   ]
  },
  {
   "cell_type": "code",
   "execution_count": 126,
   "id": "acquired-latitude",
   "metadata": {},
   "outputs": [
    {
     "data": {
      "text/plain": [
       "<tf.Tensor: shape=(3, 3), dtype=int32, numpy=\n",
       "array([[0, 1, 2],\n",
       "       [3, 4, 5],\n",
       "       [6, 7, 8]], dtype=int32)>"
      ]
     },
     "execution_count": 126,
     "metadata": {},
     "output_type": "execute_result"
    }
   ],
   "source": [
    "z"
   ]
  },
  {
   "cell_type": "code",
   "execution_count": null,
   "id": "stupid-brazilian",
   "metadata": {},
   "outputs": [],
   "source": []
  }
 ],
 "metadata": {
  "kernelspec": {
   "display_name": "Python 3",
   "language": "python",
   "name": "python3"
  },
  "language_info": {
   "codemirror_mode": {
    "name": "ipython",
    "version": 3
   },
   "file_extension": ".py",
   "mimetype": "text/x-python",
   "name": "python",
   "nbconvert_exporter": "python",
   "pygments_lexer": "ipython3",
   "version": "3.6.9"
  }
 },
 "nbformat": 4,
 "nbformat_minor": 5
}
