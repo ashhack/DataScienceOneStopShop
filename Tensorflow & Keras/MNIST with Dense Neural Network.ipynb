{
 "cells": [
  {
   "cell_type": "code",
   "execution_count": 1,
   "metadata": {},
   "outputs": [],
   "source": [
    "import os\n",
    "os.environ['KMP_DUPLICATE_LIB_OK'] = 'True'\n",
    "\n",
    "import matplotlib.pyplot as plt\n",
    "\n",
    "import pandas as pd\n",
    "import tensorflow as tf\n",
    "from tensorflow import keras\n",
    "from tensorflow.keras import layers\n",
    "from tensorflow.keras.datasets import mnist\n",
    "\n",
    "import xgboost\n",
    "import sklearn"
   ]
  },
  {
   "cell_type": "code",
   "execution_count": 2,
   "metadata": {},
   "outputs": [],
   "source": [
    "(X_train, y_train), (X_test, y_test) = mnist.load_data()"
   ]
  },
  {
   "cell_type": "code",
   "execution_count": 3,
   "metadata": {},
   "outputs": [],
   "source": [
    "X_train = X_train.reshape(-1, 28*28)\n",
    "X_test = X_test.reshape(-1, 28*28)"
   ]
  },
  {
   "cell_type": "code",
   "execution_count": 4,
   "metadata": {},
   "outputs": [],
   "source": [
    "#### Numpy array is automatically converted to tensor internally\n",
    "# Sequential API\n",
    "\n",
    "model = keras.Sequential(\n",
    "    [\n",
    "        keras.Input(shape=(28*28)),\n",
    "        layers.Dense(512, activation=\"relu\"),\n",
    "        layers.Dense(256, activation=\"relu\"),\n",
    "        layers.Dense(10)\n",
    "    ]\n",
    ")"
   ]
  },
  {
   "cell_type": "code",
   "execution_count": 5,
   "metadata": {},
   "outputs": [
    {
     "name": "stdout",
     "output_type": "stream",
     "text": [
      "Model: \"sequential\"\n",
      "_________________________________________________________________\n",
      "Layer (type)                 Output Shape              Param #   \n",
      "=================================================================\n",
      "dense (Dense)                (None, 512)               401920    \n",
      "_________________________________________________________________\n",
      "dense_1 (Dense)              (None, 256)               131328    \n",
      "_________________________________________________________________\n",
      "dense_2 (Dense)              (None, 10)                2570      \n",
      "=================================================================\n",
      "Total params: 535,818\n",
      "Trainable params: 535,818\n",
      "Non-trainable params: 0\n",
      "_________________________________________________________________\n"
     ]
    }
   ],
   "source": [
    "    model.summary()"
   ]
  },
  {
   "cell_type": "code",
   "execution_count": 6,
   "metadata": {},
   "outputs": [],
   "source": [
    "model.compile(loss = keras.losses.SparseCategoricalCrossentropy(from_logits=True), \n",
    "             optimier = keras.optimizers.Adam(lr=0.001), \n",
    "             metrics = [\"accuracy\"],     \n",
    "             )"
   ]
  },
  {
   "cell_type": "code",
   "execution_count": 7,
   "metadata": {},
   "outputs": [
    {
     "name": "stdout",
     "output_type": "stream",
     "text": [
      "Train on 60000 samples\n",
      "Epoch 1/10\n",
      "60000/60000 [==============================] - 13s 216us/sample - loss: 2.0310 - accuracy: 0.8849\n",
      "Epoch 2/10\n",
      "60000/60000 [==============================] - 13s 224us/sample - loss: 0.4396 - accuracy: 0.9291\n",
      "Epoch 3/10\n",
      "60000/60000 [==============================] - 14s 232us/sample - loss: 0.4016 - accuracy: 0.9380\n",
      "Epoch 4/10\n",
      "60000/60000 [==============================] - 14s 229us/sample - loss: 0.3824 - accuracy: 0.9422\n",
      "Epoch 5/10\n",
      "60000/60000 [==============================] - 13s 224us/sample - loss: 0.4098 - accuracy: 0.9410\n",
      "Epoch 6/10\n",
      "60000/60000 [==============================] - 13s 221us/sample - loss: 0.4149 - accuracy: 0.9424\n",
      "Epoch 7/10\n",
      "60000/60000 [==============================] - 13s 218us/sample - loss: 0.4320 - accuracy: 0.9413\n",
      "Epoch 8/10\n",
      "60000/60000 [==============================] - 13s 220us/sample - loss: 0.4449 - accuracy: 0.9409\n",
      "Epoch 9/10\n",
      "60000/60000 [==============================] - 15s 248us/sample - loss: 0.4574 - accuracy: 0.9395\n",
      "Epoch 10/10\n",
      "60000/60000 [==============================] - 14s 235us/sample - loss: 0.4972 - accuracy: 0.9298\n"
     ]
    },
    {
     "data": {
      "text/plain": [
       "<tensorflow.python.keras.callbacks.History at 0x7f858af46910>"
      ]
     },
     "execution_count": 7,
     "metadata": {},
     "output_type": "execute_result"
    }
   ],
   "source": [
    "model.fit(X_train, y_train, batch_size=32, epochs=10, verbose=1)"
   ]
  },
  {
   "cell_type": "code",
   "execution_count": 11,
   "metadata": {},
   "outputs": [
    {
     "name": "stdout",
     "output_type": "stream",
     "text": [
      "10000/1 - 1s - loss: 0.9308 - accuracy: 0.9147\n"
     ]
    },
    {
     "data": {
      "text/plain": [
       "[1.6611348608527097, 0.9147]"
      ]
     },
     "execution_count": 11,
     "metadata": {},
     "output_type": "execute_result"
    }
   ],
   "source": [
    "model.evaluate(X_test, y_test, batch_size=32, verbose=2)"
   ]
  }
 ],
 "metadata": {
  "kernelspec": {
   "display_name": "Python 3",
   "language": "python",
   "name": "python3"
  },
  "language_info": {
   "codemirror_mode": {
    "name": "ipython",
    "version": 3
   },
   "file_extension": ".py",
   "mimetype": "text/x-python",
   "name": "python",
   "nbconvert_exporter": "python",
   "pygments_lexer": "ipython3",
   "version": "3.7.9"
  }
 },
 "nbformat": 4,
 "nbformat_minor": 4
}
