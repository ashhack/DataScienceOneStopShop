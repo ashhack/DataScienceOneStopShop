{
 "cells": [
  {
   "cell_type": "code",
   "execution_count": 1,
   "id": "bearing-connecticut",
   "metadata": {},
   "outputs": [],
   "source": [
    "import sys"
   ]
  },
  {
   "cell_type": "code",
   "execution_count": 2,
   "id": "determined-kuwait",
   "metadata": {},
   "outputs": [],
   "source": [
    "!{sys.executable} -m pip install -q --user --upgrade -q tfx==0.26.0\n",
    "!{sys.executable} -m pip install -q --user --upgrade -q kfp==1.0.0"
   ]
  },
  {
   "cell_type": "code",
   "execution_count": 3,
   "id": "first-fishing",
   "metadata": {},
   "outputs": [
    {
     "name": "stdout",
     "output_type": "stream",
     "text": [
      "  % Total    % Received % Xferd  Average Speed   Time    Time     Time  Current\n",
      "                                 Dload  Upload   Total   Spent    Left  Speed\n",
      "100 50.1M  100 50.1M    0     0   901k      0  0:00:57  0:00:57 --:--:-- 1664k   0  0:01:07  0:00:35  0:00:32  728k\n",
      "mv: rename skaffold to /home/jupyter/.local/bin/: No such file or directory\n"
     ]
    }
   ],
   "source": [
    "!curl -Lo skaffold https://storage.googleapis.com/skaffold/releases/latest/skaffold-linux-amd64 && chmod +x skaffold && mv skaffold /home/jupyter/.local/bin/"
   ]
  },
  {
   "cell_type": "code",
   "execution_count": null,
   "id": "alone-feelings",
   "metadata": {},
   "outputs": [],
   "source": []
  }
 ],
 "metadata": {
  "kernelspec": {
   "display_name": "Python 3",
   "language": "python",
   "name": "python3"
  },
  "language_info": {
   "codemirror_mode": {
    "name": "ipython",
    "version": 3
   },
   "file_extension": ".py",
   "mimetype": "text/x-python",
   "name": "python",
   "nbconvert_exporter": "python",
   "pygments_lexer": "ipython3",
   "version": "3.6.9"
  }
 },
 "nbformat": 4,
 "nbformat_minor": 5
}
